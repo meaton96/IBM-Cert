{
 "cells": [
  {
   "cell_type": "markdown",
   "id": "a48d0377-3761-4e70-b154-67fd8a1ab06b",
   "metadata": {},
   "source": [
    "# Data Science Tools and Ecosystem"
   ]
  },
  {
   "cell_type": "markdown",
   "id": "e3ff2975-9194-4315-a72c-24fdd1826978",
   "metadata": {},
   "source": [
    "### In this notebook, Data Science Tools and Ecosystem are summarized."
   ]
  },
  {
   "cell_type": "markdown",
   "id": "8b7404b4-4285-4535-b8cb-c9bd183027b7",
   "metadata": {},
   "source": [
    "Some of the popular languages that Data Scientists use are:\n",
    "1. R\n",
    "2. Python\n",
    "3. Java\n",
    "4. SQL"
   ]
  },
  {
   "cell_type": "markdown",
   "id": "ee701c47-38df-4945-96ba-f06b22580ff0",
   "metadata": {},
   "source": [
    "Some of the commonly used libraries used by Data Scientists include:\n",
    "1. NumPy\n",
    "2. Pandas\n",
    "3. Matplotlib\n",
    "4. PyTorch\n",
    "5. TensorFlow"
   ]
  },
  {
   "cell_type": "markdown",
   "id": "2079c670-a4e2-41e5-9ef0-7f54f32f92aa",
   "metadata": {},
   "source": [
    "| Data Science Tools. |\n",
    "| ------- |\n",
    "| RStudio |\n",
    "| Jupyter Notebook |\n",
    "| Spyder |\n"
   ]
  },
  {
   "cell_type": "markdown",
   "id": "bc29e11b-046c-47f2-b80f-075356159f28",
   "metadata": {},
   "source": [
    "### Below are a few examples of evaluating arithmetic expressions in Python.\n"
   ]
  },
  {
   "cell_type": "code",
   "execution_count": 1,
   "id": "2361c8ce-7e35-4817-9173-9d69aa06ce63",
   "metadata": {},
   "outputs": [
    {
     "data": {
      "text/plain": [
       "17"
      ]
     },
     "execution_count": 1,
     "metadata": {},
     "output_type": "execute_result"
    }
   ],
   "source": [
    "# This a simple arithmetic expression to mutiply then add integers.\n",
    "(3*4)+5"
   ]
  },
  {
   "cell_type": "code",
   "execution_count": 2,
   "id": "539bb273-ab17-41a8-8443-7e609cee0de1",
   "metadata": {},
   "outputs": [
    {
     "data": {
      "text/plain": [
       "3.3333333333333335"
      ]
     },
     "execution_count": 2,
     "metadata": {},
     "output_type": "execute_result"
    }
   ],
   "source": [
    "# This will convert 200 minutes to hours by diving by 60.\n",
    "200/60"
   ]
  },
  {
   "cell_type": "markdown",
   "id": "860d3703-7c0f-4dfa-b9e6-52cb60178113",
   "metadata": {},
   "source": [
    "**Objectives:**\n",
    "- Covering Markdown in Jupyter Notebook\n",
    "- Performing simple arithmetic expressions in Python\n",
    "- list common data science tools, languages, and libraries"
   ]
  },
  {
   "cell_type": "markdown",
   "id": "0c5e59bb-6464-42b6-a51c-91aab936e320",
   "metadata": {},
   "source": [
    "## Author\n",
    "Mike Eaton"
   ]
  },
  {
   "cell_type": "code",
   "execution_count": null,
   "id": "7d40c2c7-9370-4637-8be5-b8a8bbf01153",
   "metadata": {},
   "outputs": [],
   "source": []
  }
 ],
 "metadata": {
  "kernelspec": {
   "display_name": "Python 3 (ipykernel)",
   "language": "python",
   "name": "python3"
  },
  "language_info": {
   "codemirror_mode": {
    "name": "ipython",
    "version": 3
   },
   "file_extension": ".py",
   "mimetype": "text/x-python",
   "name": "python",
   "nbconvert_exporter": "python",
   "pygments_lexer": "ipython3",
   "version": "3.12.2"
  }
 },
 "nbformat": 4,
 "nbformat_minor": 5
}
